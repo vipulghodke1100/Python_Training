{
 "cells": [
  {
   "cell_type": "code",
   "execution_count": 10,
   "metadata": {},
   "outputs": [
    {
     "name": "stdout",
     "output_type": "stream",
     "text": [
      "Sucessufully fetched article Reliance to double investments in West Bengal by end of decade, says Mukesh Ambani from https://www.thehindu.com/news/national/west-bengal/reliance-to-double-investments-in-west-bengal-by-end-of-decade-says-mukesh-ambani/article69184762.ece\n",
      "Sucessufully fetched article Delhi assembly elections 2025: As turnout dips, all eyes on Saturday score; votes cast lowest since 2008 from https://timesofindia.indiatimes.com/india/delhi-assembly-elections-2025-as-turnout-dips-all-eyes-on-saturday-score-votes-cast-lowest-since-2008/articleshow/117964440.cms\n"
     ]
    }
   ],
   "source": [
    "import logging\n",
    "import requests\n",
    "import json\n",
    "from bs4 import BeautifulSoup\n",
    "\n",
    "logging.basicConfig(\n",
    "    filename='./logger.log',\n",
    "    format='%(asctime)s %(message)s',\n",
    "    filemode='w',\n",
    "    level=logging.INFO)\n",
    "\n",
    "def Scrape_The_Hindu(url):\n",
    "    try:\n",
    "        logging.info(f\"Scraping the article from The Hindu\")\n",
    "        response=requests.get(url)\n",
    "        soup = BeautifulSoup(response.text,'html.parser')\n",
    "        title=soup.find('h1',{'class':'title'}).text.strip()\n",
    "        para_div=soup.find('div' , {'id':'content-body-69184762'})\n",
    "        para=para_div.find_all('p')\n",
    "        body=''\n",
    "        for p in para:\n",
    "            body+=p.text.strip()\n",
    "        logging.info(f\"Sucessufully fetched article {title} from {url}\")\n",
    "        print(f\"Sucessufully fetched article {title} from {url}\")\n",
    "        return title , body\n",
    "    except Exception as e:\n",
    "        logging.error(f\"Error:{e} while Scrapping {url}\")\n",
    "        \n",
    "def Scrape_Times_of_India(url):\n",
    "    try:\n",
    "        logging.info(f\"Scraping the article from Times of India\")\n",
    "        response=requests.get(url)\n",
    "        soup = BeautifulSoup(response.text,'html.parser')\n",
    "        title=soup.find('h1',{'class':'HNMDR'}).text\n",
    "        body=soup.find('div' , {'class':'_s30J clearfix'}).text\n",
    "        logging.info(f\"Sucessufully fetched article {title} from {url}\")\n",
    "        print(f\"Sucessufully fetched article {title} from {url}\")\n",
    "        return title,body\n",
    "    except Exception as e:\n",
    "        logging.error(f\"Error:{e} while Scrapping {url}\")\n",
    "    \n",
    "    \n",
    "def convert_to_markdown(article_name,title,body):\n",
    "    if title and body:  \n",
    "        md_file = f\"# {title}\\n\\n{body}\"\n",
    "        try:\n",
    "            with open(f'./{article_name}.md', 'w', encoding='utf-8') as file:\n",
    "                file.write(md_file)\n",
    "            logging.info(f'{article_name}.md is written.')\n",
    "        except Exception as e:\n",
    "            logging.error(f\"Error writing {article_name}.md: {e}\")\n",
    "    else:\n",
    "        logging.warning(f\"Skipping markdown creation for {article_name} due to missing content.\")\n",
    "    \n",
    "    \n",
    "    \n",
    "def load_json():\n",
    "    with open('./config.json','r') as file:\n",
    "        config=json.load(file)\n",
    "    urls=config.get('Urls')\n",
    "    return urls\n",
    "    \n",
    "    \n",
    "def main():\n",
    "    urls=load_json()\n",
    "    title,body=Scrape_The_Hindu(urls[0])\n",
    "    convert_to_markdown(\"The_Hindu\",title,body)\n",
    "    title,body=Scrape_Times_of_India(urls[1])\n",
    "    convert_to_markdown(\"Times_Of_India\", title,body)\n",
    "    \n",
    "if __name__=='__main__':\n",
    "    main()"
   ]
  }
 ],
 "metadata": {
  "kernelspec": {
   "display_name": "virtualEnv",
   "language": "python",
   "name": "python3"
  },
  "language_info": {
   "codemirror_mode": {
    "name": "ipython",
    "version": 3
   },
   "file_extension": ".py",
   "mimetype": "text/x-python",
   "name": "python",
   "nbconvert_exporter": "python",
   "pygments_lexer": "ipython3",
   "version": "3.13.1"
  }
 },
 "nbformat": 4,
 "nbformat_minor": 2
}
