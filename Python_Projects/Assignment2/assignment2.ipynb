{
 "cells": [
  {
   "cell_type": "code",
   "execution_count": 1,
   "metadata": {},
   "outputs": [],
   "source": [
    "from selenium import webdriver\n",
    "from selenium.webdriver.chrome.options import Options\n",
    "from selenium.webdriver.chrome.service import Service as chromeservice\n",
    "from webdriver_manager.chrome import ChromeDriverManager\n",
    "from selenium.webdriver.common.keys import Keys\n",
    "from selenium.webdriver.common.by import By\n",
    "from pypdf import PdfReader\n",
    "import os\n",
    "import json\n",
    "import re\n",
    "import time"
   ]
  },
  {
   "cell_type": "code",
   "execution_count": 2,
   "metadata": {},
   "outputs": [],
   "source": [
    "def download_file(url):\n",
    "    options=webdriver.ChromeOptions()\n",
    "    options.add_argument('--headless')\n",
    "    options.add_experimental_option('prefs',{'download.default_directory':'C:\\\\Traniee\\\\Python\\\\Numpy_Pandas_Assignment\\\\Python_Projects\\\\Assignment2\\\\down',\n",
    "    'download.promt_for_download':False,\n",
    "    'plugins.always_open_pdf_externally':True\n",
    "    })\n",
    "    driver=webdriver.Chrome(service=chromeservice(ChromeDriverManager().install()), options=options)\n",
    "    driver.get(url)"
   ]
  },
  {
   "cell_type": "code",
   "execution_count": 3,
   "metadata": {},
   "outputs": [],
   "source": [
    "def extract_text(file_path,pages):\n",
    "    reader=PdfReader(file_path)\n",
    "    text=''\n",
    "    for i in range(pages):\n",
    "        page=reader.pages[i]\n",
    "        text+=page.extract_text()\n",
    "        \n",
    "    cin = r'[A-Z]\\d{5}[A-Z]{2}\\d{4}[A-Z]{3}\\d{6}'\n",
    "    email =r'[A-Za-z0-9._%+-]+@[A-Za-z0-9.-]+\\.[A-Z|a-z]{2,}'\n",
    "    phone= r'(\\[-\\s]?[6-9]\\d{9}|[6-9]\\d{9}|\\d{2,5}[-\\s]?\\d{5,8})'\n",
    "    pan= r'[A-Z]{5}[0-9]{4}[A-Z]{1}'\n",
    "    date = r'(0[1-9]|[12][0-9]|3[01])[-/](0[1-9]|1[0-2])[-/](\\d{4})'\n",
    "    website= r'\\bhttps?://[a-zA-Z0-9.-]+\\.[a-zA-Z]{2,}(?:/\\S*)?\\b|\\bwww\\.[a-zA-Z0-9.-]+\\.[a-zA-Z]{2,}(?:/\\S*)?\\b'    \n",
    "    \n",
    "    cin_numbers=re.findall(cin ,text)\n",
    "    emails=re.findall(email,text)\n",
    "    phones=re.findall(phone ,text)\n",
    "    pans=re.findall(pan ,text)\n",
    "    dates=re.findall(date ,text)\n",
    "    websites=re.findall(website ,text)\n",
    "    \n",
    "    print(f\"count of CIN :{len(cin_numbers)}\")\n",
    "    print(cin_numbers)\n",
    "    print(emails)\n",
    "    print(phones)\n",
    "    print(pans)\n",
    "    print(dates)\n",
    "    print(websites)\n",
    "    return"
   ]
  },
  {
   "cell_type": "code",
   "execution_count": 4,
   "metadata": {},
   "outputs": [],
   "source": [
    "def load_config():\n",
    "    with open('./config.json','r') as file:\n",
    "        config=json.load(file)\n",
    "    urls=config.get('urls')\n",
    "    pages_to_extract=config.get('pages_to_extract')\n",
    "    return urls,pages_to_extract"
   ]
  },
  {
   "cell_type": "code",
   "execution_count": 6,
   "metadata": {},
   "outputs": [
    {
     "name": "stdout",
     "output_type": "stream",
     "text": [
      "https://assets.airtel.in/teams/simplycms/web/docs/Draft-Annual-Return-FY-2021-22.pdf\n",
      "https://www.tatamotors.com/wp-content/uploads/2023/10/Form-MGT-7.pdf\n",
      "Draft-Annual-Return-FY-2021-22.pdf\n",
      "------- Extacting from Draft-Annual-Return-FY-2021-22.pdf -------\n",
      "count of CIN :13\n",
      "['L74899HR1995PLC095967', 'U72400TG2017PLC117649', 'U32039HR1985PLC032091', 'U64201DL1997PLC091001', 'U74899DL1995PLC067527', 'U32204DL2008PLC183976', 'U92200DL2006PLC156075', 'U65100DL2010PLC201058', 'U64200HR2009PLC096372', 'U72200DL2013PLC254747', 'U74140HR2015PLC096027', 'U64200HR2021PLC093754', 'U93000HR2010PLC094599']\n",
      "['compliance.officer@bharti.in']\n",
      "['01146666100']\n",
      "['AAACB2894G']\n",
      "[('07', '07', '1995'), ('01', '04', '2021'), ('31', '03', '2022'), ('31', '08', '2022')]\n",
      "['www.airtel.com']\n",
      "Form-MGT-7.pdf\n",
      "------- Extacting from Form-MGT-7.pdf -------\n",
      "count of CIN :23\n",
      "['L28920MH1945PLC004520', 'U74999MH2018PTC307859', 'U72100MH1972PLC015561', 'U50300MH1997PLC149349', 'U65923MH2006PLC162503', 'U72200PN1994PLC013313', 'U34101MH2006PLC164771', 'U29309MH2019PLC328152', 'U72900MH2020PLC339230', 'U45200MH1989PLC050444', 'U34200MH2012FLC237194', 'U34102TZ2016PTC027770', 'U50500MH2021PLC361754', 'U34100MH2021PLC373648', 'U65910MH1992PLC187184', 'L35911GA1980PLC000400', 'U85110KA1998PTC024588', 'U29120MP1995PLC009773', 'U34100PN1995PLC158999', 'U34101PN1993PTC190262', 'U28900PN1997PTC130940', 'U93000KA2008PLC046588', 'U74900KA2015PTC080558']\n",
      "['inv_rel@tatamotors.com']\n",
      "['02266658282']\n",
      "['AAACT2727Q']\n",
      "[('01', '09', '1945'), ('01', '04', '2021'), ('31', '03', '2022'), ('31', '08', '2022')]\n",
      "['www.tatamotors.com']\n"
     ]
    }
   ],
   "source": [
    "def main():\n",
    "    folder_path='./down'\n",
    "    urls , pages_to_extract = load_config()\n",
    "    for url in urls:\n",
    "        print(url)\n",
    "        download_file(url)\n",
    "    time.sleep(0.5)\n",
    "    for filename in os.listdir(folder_path):\n",
    "        print(filename)\n",
    "        if filename.endswith('.pdf'):\n",
    "            file_path=f\"{folder_path}/{filename}\"\n",
    "            print(f\"------- Extacting from {filename} -------\")\n",
    "            extract_text(file_path ,pages_to_extract)\n",
    "main()\n"
   ]
  }
 ],
 "metadata": {
  "kernelspec": {
   "display_name": "virtualEnv",
   "language": "python",
   "name": "python3"
  },
  "language_info": {
   "codemirror_mode": {
    "name": "ipython",
    "version": 3
   },
   "file_extension": ".py",
   "mimetype": "text/x-python",
   "name": "python",
   "nbconvert_exporter": "python",
   "pygments_lexer": "ipython3",
   "version": "3.13.1"
  }
 },
 "nbformat": 4,
 "nbformat_minor": 2
}
