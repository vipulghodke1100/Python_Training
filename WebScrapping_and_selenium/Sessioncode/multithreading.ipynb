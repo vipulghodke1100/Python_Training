{
 "cells": [
  {
   "cell_type": "code",
   "execution_count": 11,
   "metadata": {},
   "outputs": [],
   "source": [
    "import time\n",
    "import threading"
   ]
  },
  {
   "cell_type": "code",
   "execution_count": 4,
   "metadata": {},
   "outputs": [],
   "source": [
    "def calc_square(lst):\n",
    "    print(\"Calculating Squares: \")\n",
    "    for ele in lst:\n",
    "        # cpu will be idle for 0.2 seconds\n",
    "        time.sleep(0.2)\n",
    "        print(f\"Square of {ele}: {ele ** 2}\")\n",
    "        \n",
    "\n",
    "\n",
    "def calc_cube(lst):\n",
    "    print(\"Calculating Cubes: \")\n",
    "    for ele in lst:\n",
    "        time.sleep(0.2)\n",
    "        print(f\"Cube of {ele}: {ele ** 2}\")\n"
   ]
  },
  {
   "cell_type": "code",
   "execution_count": 7,
   "metadata": {},
   "outputs": [],
   "source": [
    "def normal_operation():\n",
    "    list_of_num = [1,2,3,4,5]\n",
    "    start_time = time.time()\n",
    "    calc_square(list_of_num)\n",
    "    calc_cube(list_of_num)\n",
    "    total_time = time.time() - start_time\n",
    "    print(f\"Total time: {total_time} seconds\")"
   ]
  },
  {
   "cell_type": "code",
   "execution_count": 8,
   "metadata": {},
   "outputs": [
    {
     "name": "stdout",
     "output_type": "stream",
     "text": [
      "Calculating Squares: \n",
      "Square of 1: 1\n",
      "Square of 2: 4\n",
      "Square of 3: 9\n",
      "Square of 4: 16\n",
      "Square of 5: 25\n",
      "Calculating Cubes: \n",
      "Cube of 1: 1\n",
      "Cube of 2: 4\n",
      "Cube of 3: 9\n",
      "Cube of 4: 16\n",
      "Cube of 5: 25\n",
      "Total time: 2.016669511795044 seconds\n"
     ]
    }
   ],
   "source": [
    "normal_operation()"
   ]
  },
  {
   "cell_type": "code",
   "execution_count": 19,
   "metadata": {},
   "outputs": [],
   "source": [
    "def multi_operation():\n",
    "    lst = [1,2,3,4,5]\n",
    "    start_time = time.time()\n",
    "    t1 = threading.Thread(target=calc_square,args=(lst,))\n",
    "    t2 = threading.Thread(target=calc_cube,args=(lst,))\n",
    "    t1.start()\n",
    "    t2.start()\n",
    "\n",
    "    t1.join()\n",
    "    t2.join()\n",
    "    end_time = time.time()\n",
    "    print(f\"Total time: {end_time-start_time}s\")"
   ]
  },
  {
   "cell_type": "code",
   "execution_count": 20,
   "metadata": {},
   "outputs": [
    {
     "name": "stdout",
     "output_type": "stream",
     "text": [
      "Calculating Squares: Calculating Cubes: \n",
      "\n",
      "Cube of 1: 1\n",
      "Square of 1: 1\n",
      "Cube of 2: 4Square of 2: 4\n",
      "\n",
      "Square of 3: 9\n",
      "Cube of 3: 9\n",
      "Square of 4: 16\n",
      "Cube of 4: 16\n",
      "Square of 5: 25\n",
      "Cube of 5: 25\n",
      "Total time: 1.0209832191467285s\n"
     ]
    }
   ],
   "source": [
    "multi_operation()"
   ]
  },
  {
   "cell_type": "code",
   "execution_count": 30,
   "metadata": {},
   "outputs": [],
   "source": [
    "def prepare_soup():\n",
    "    print(\"starting preparation for soup\")\n",
    "    time.sleep(8)\n",
    "    print(\"Soup is ready!\")\n"
   ]
  },
  {
   "cell_type": "code",
   "execution_count": 31,
   "metadata": {},
   "outputs": [],
   "source": [
    "def prepare_pasta():\n",
    "    print(\"starting preparation for pasta\")\n",
    "    time.sleep(5)\n",
    "    print(\"Pasta is ready!\")"
   ]
  },
  {
   "cell_type": "code",
   "execution_count": 32,
   "metadata": {},
   "outputs": [],
   "source": [
    "def concurrent_work():\n",
    "    t1 = threading.Thread(target=prepare_soup)\n",
    "    t2 = threading.Thread(target=prepare_pasta)\n",
    "    \n",
    "    start_time = time.time()\n",
    "    t1.start()\n",
    "    t2.start()\n",
    "\n",
    "    t1.join()\n",
    "    t2.join()\n",
    "    end_time = time.time()\n",
    "    print(\"Ready to serve!\")\n",
    "    print(f\"Total time taken:{end_time-start_time}\\n\")\n"
   ]
  },
  {
   "cell_type": "code",
   "execution_count": 33,
   "metadata": {},
   "outputs": [
    {
     "name": "stdout",
     "output_type": "stream",
     "text": [
      "starting preparation for soup\n",
      "starting preparation for pasta\n",
      "Pasta is ready!\n",
      "Soup is ready!\n",
      "Ready to serve!\n",
      "Total time taken:8.012595415115356\n",
      "\n"
     ]
    }
   ],
   "source": [
    "concurrent_work()"
   ]
  },
  {
   "cell_type": "code",
   "execution_count": 40,
   "metadata": {},
   "outputs": [],
   "source": [
    "def normal_cooking():\n",
    "    start_time = time.time()\n",
    "    prepare_soup()\n",
    "    prepare_pasta()\n",
    "    total_time = time.time() - start_time\n",
    "    print(f\"Total time: {round(total_time,3)} seconds\")"
   ]
  },
  {
   "cell_type": "code",
   "execution_count": 41,
   "metadata": {},
   "outputs": [
    {
     "name": "stdout",
     "output_type": "stream",
     "text": [
      "starting preparation for soup\n",
      "Soup is ready!\n",
      "starting preparation for pasta\n",
      "Pasta is ready!\n",
      "Total time: 13.003 seconds\n"
     ]
    }
   ],
   "source": [
    "normal_cooking()"
   ]
  },
  {
   "cell_type": "markdown",
   "metadata": {},
   "source": [
    "# Synchronization "
   ]
  },
  {
   "cell_type": "code",
   "execution_count": 43,
   "metadata": {},
   "outputs": [
    {
     "name": "stdout",
     "output_type": "stream",
     "text": [
      "starting preparation for soup\n",
      "cutting vegetables for soup\n",
      "starting preparation for pasta\n",
      "Cutting vegetables for pasta\n",
      "Stove being used for soup\n",
      "Stove usage completed for soup\n",
      "Lock released for item soup\n",
      "Soup is ready!\n",
      "Stove being used for pasta\n",
      "Stove usage completed for pasta\n",
      "Lock released for item pasta\n",
      "Pasta is ready!\n",
      "Ready to serve!\n",
      "Total time taken:15.033624410629272\n",
      "\n"
     ]
    }
   ],
   "source": [
    "lock_instance = threading.Lock()\n",
    "def prepare_soup():\n",
    "    print(\"starting preparation for soup\")\n",
    "    print(\"cutting vegetables for soup\")\n",
    "    time.sleep(5)\n",
    "    use_stove(lock_instance,\"soup\")\n",
    "    release_lock(lock_instance,\"soup\")\n",
    "    print(\"Soup is ready!\")\n",
    "\n",
    "\n",
    "def prepare_pasta():\n",
    "    print(\"starting preparation for pasta\")\n",
    "    print(\"Cutting vegetables for pasta\")\n",
    "    time.sleep(5)\n",
    "    use_stove(lock_instance,\"pasta\")\n",
    "    release_lock(lock_instance,\"pasta\")\n",
    "    print(\"Pasta is ready!\")\n",
    "\n",
    "def use_stove(lock,item):\n",
    "    lock_instance.acquire()\n",
    "    print(f\"Stove being used for {item}\")\n",
    "    time.sleep(5)\n",
    "    print(f\"Stove usage completed for {item}\")\n",
    "\n",
    "def release_lock(lock,item):\n",
    "    lock_instance.release()\n",
    "    print(f\"Lock released for item {item}\")\n",
    "\n",
    "def concurrent_work():\n",
    "    t1 = threading.Thread(target=prepare_soup)\n",
    "    t2 = threading.Thread(target=prepare_pasta)\n",
    "    \n",
    "    start_time = time.time()\n",
    "    t1.start()\n",
    "    t2.start()\n",
    "\n",
    "    t1.join()\n",
    "    t2.join()\n",
    "    end_time = time.time()\n",
    "    print(\"Ready to serve!\")\n",
    "    print(f\"Total time taken:{end_time-start_time}\\n\")\n",
    "\n",
    "concurrent_work()"
   ]
  },
  {
   "cell_type": "code",
   "execution_count": 44,
   "metadata": {},
   "outputs": [],
   "source": [
    "#operating system's thread scheduler may determine that which thread will execute first "
   ]
  },
  {
   "cell_type": "code",
   "execution_count": 46,
   "metadata": {},
   "outputs": [],
   "source": [
    "#Synchronization:\n",
    "# 1. Also called as \"Mutual Exclusion\" where only 1 thread can execute te critical section at a time.\n",
    "# 2. Locks are acquired for critical section and hence if one thread is in critical section , the other \n",
    "#    thread have to wait.\n",
    "# 3. The primary purpose of synchronization is to protect shared resources from concurrent access, \n",
    "#    ensuring that only one thread can access them at a time.\n",
    "# 4. Synchronization helps to prevent race conditions, which happen when two or more threads try to modify \n",
    "#    shared data at the same time, causing inconsistency or errors in the program's behavior.\n",
    "# 5. After acquiring the locks, it is necessary to release it inorder to avoid the deadlock conditions."
   ]
  },
  {
   "cell_type": "code",
   "execution_count": 47,
   "metadata": {},
   "outputs": [],
   "source": [
    "#GIL(Global Interpreter Lock):\n",
    "# 1. GIL (Global Interpreter Lock) in Python does not allow multiple threads to execute Python bytecode concurrently \n",
    "#    in a single process. This means that even if you have multiple threads, only one thread can execute Python code \n",
    "#    at a time.\n",
    "# 2. The GIL ensures thread safety for certain operations (like memory management), but it doesn't prevent issues \n",
    "#    like race conditions when threads try to modify or access shared data.\n",
    "# 3. Even though only one thread executes at a time due to the GIL, Python threads can still be scheduled and switched (through context switching, \n",
    "#     as we discussed earlier).\n",
    "# 4. If multiple threads try to modify the same shared resource (like a variable, list, dictionary, etc.), they can corrupt the data if there\n",
    "#     is no synchronization.\n"
   ]
  },
  {
   "cell_type": "markdown",
   "metadata": {},
   "source": [
    "# Multiprocessing"
   ]
  },
  {
   "cell_type": "code",
   "execution_count": 49,
   "metadata": {},
   "outputs": [],
   "source": [
    "import multiprocessing"
   ]
  },
  {
   "cell_type": "code",
   "execution_count": 50,
   "metadata": {},
   "outputs": [],
   "source": [
    "def print_cube(num):\n",
    "  \"\"\"\n",
    "  Function to print cube of given num\n",
    "  \"\"\"\n",
    "  print(\"Cube: {}\".format(num * num * num))\n",
    "\n",
    "def print_square(num):\n",
    "  \"\"\"\n",
    "  Function to print square of given num\n",
    "  \"\"\"\n",
    "  print(\"Square: {}\".format(num * num))"
   ]
  },
  {
   "cell_type": "code",
   "execution_count": 54,
   "metadata": {},
   "outputs": [
    {
     "name": "stdout",
     "output_type": "stream",
     "text": [
      "Finished execution..\n"
     ]
    }
   ],
   "source": [
    "def func1():\n",
    "    print(\"New process started..\")\n",
    "    time.sleep(2)\n",
    "    print(f\"The process name is : {multiprocessing.current_process()}\")\n",
    "\n",
    "def main_fn1():\n",
    "    p1 = multiprocessing.Process(target=func1)\n",
    "    # start the process\n",
    "    p1.start()\n",
    "    # wait for process to complete its task\n",
    "    p1.join()\n",
    "    print(\"Finished execution..\")\n",
    "\n",
    "main_fn1()"
   ]
  },
  {
   "cell_type": "code",
   "execution_count": 55,
   "metadata": {},
   "outputs": [
    {
     "name": "stdout",
     "output_type": "stream",
     "text": [
      "Finished execution..\n"
     ]
    }
   ],
   "source": [
    "if __name__ == \"__main__\":\n",
    "    \"\"\"\n",
    "    Before the child process completes, the main process continues to execute \n",
    "    and prints \"Finished execution..\" \n",
    "    because it has already completed its task of starting the child process\n",
    "    \"\"\"\n",
    "    main_fn1()"
   ]
  },
  {
   "cell_type": "code",
   "execution_count": 56,
   "metadata": {},
   "outputs": [
    {
     "name": "stdout",
     "output_type": "stream",
     "text": [
      "Finished execution..\n"
     ]
    }
   ],
   "source": [
    "import multiprocessing\n",
    "import time\n",
    "\n",
    "def func1():\n",
    "    print(\"New process started..\")\n",
    "    time.sleep(2)\n",
    "    print(f\"The process name is : {multiprocessing.current_process()}\")\n",
    "\n",
    "def main_fn1():\n",
    "    p1 = multiprocessing.Process(target=func1)\n",
    "    # start the process\n",
    "    p1.start()\n",
    "    # wait for process to complete its task\n",
    "    p1.join()\n",
    "    print(\"Finished execution..\")\n",
    "\n",
    "if __name__ == \"__main__\":  # Protect the entry point for creating new processes\n",
    "    main_fn1()\n"
   ]
  },
  {
   "cell_type": "code",
   "execution_count": null,
   "metadata": {},
   "outputs": [],
   "source": []
  }
 ],
 "metadata": {
  "kernelspec": {
   "display_name": "venv",
   "language": "python",
   "name": "python3"
  },
  "language_info": {
   "codemirror_mode": {
    "name": "ipython",
    "version": 3
   },
   "file_extension": ".py",
   "mimetype": "text/x-python",
   "name": "python",
   "nbconvert_exporter": "python",
   "pygments_lexer": "ipython3",
   "version": "3.11.2"
  }
 },
 "nbformat": 4,
 "nbformat_minor": 2
}
